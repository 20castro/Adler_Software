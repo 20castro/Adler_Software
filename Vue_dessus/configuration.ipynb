{
 "cells": [
  {
   "cell_type": "code",
   "execution_count": null,
   "metadata": {},
   "outputs": [],
   "source": [
    "import numpy as np\n",
    "import matplotlib.pyplot as plt\n",
    "import pandas as pd\n",
    "\n",
    "import sys\n",
    "sys.path.append('/Users/david/miniconda3/lib/python3.8/site-packages')\n",
    "\n",
    "import cv2 as cv\n",
    "\n",
    "from ipywidgets import interact\n",
    "import ipywidgets as widgets"
   ]
  },
  {
   "cell_type": "markdown",
   "metadata": {},
   "source": [
    "# Idée\n",
    "\n",
    "Trouver au début d'un ensemble d'opérations de traitement, les bonnes valeurs de seuil sur lesquelles moyenner. En effet, la luminosité et les conditions peuvent changer d'une série de photos à l'autre\n",
    "\n",
    "$\\rightarrow$ Définir un score dépendant des paramètres pertinents pour définir une plage sur laquelle moyenner (plage sur laquelle ils sont signifiants)\n",
    "\n",
    "## Données à prendre en compte\n",
    "\n",
    "- Nombre d'ellipses pertinentes détectées (doit être $2$)\n",
    "- Nombre d'ellipses totales détectées (s'il est trop élevé : bruit qui peut altérer la mesure)\n",
    "- Stabilité des angles des ellipses (variance sur la fenêtre)\n",
    "- Stabilité des mesures d'excentricité et de concentricité (variance sur la fenêtre)\n",
    "- Redondant mais éventuellement plus pertinent que le point précédent : précision de l'approximation linéaire des différents axes\n",
    "\n",
    "## Scores\n",
    "\n",
    "But : vérifier (1) qu'on mesure bien les bonnes données et (2) qu'on continue de mesurer les mêmes éléments (variations régulières) au fil de l'évolution du seuil.\n",
    "\n",
    "$\\rightarrow$ Un score __pertinence du domaine__ (dépend des deux premiers points)\n",
    "\n",
    "$\\rightarrow$ Un score __cohérence des mesures__ (dépend de 10 valeurs : les 2 axes, les 2 coordonnées du centre et les angles [quel modulo ?] de chaque ellipse)\n",
    "\n",
    "$\\rightarrow$ On moyenne l'excentricité et l'écart de concentricité sur le domaine déterminé.\n",
    "\n",
    "## Plan de calcul des scores\n",
    "\n",
    "- Nombre d'ellipses pertinentes : doit être 2 (si plus que 2, filtre à ajuster)\n",
    "- Nombre total : __tendance exponentielle__. Définir une valeur max (interprétation : au-delà d'une certaine valeur, le bruit aussi détecté devient susceptible d'influencer significativement les mesures réalisées).\n",
    "- Pour la longueur des $4$ axes : on s'attend à une __tendance affine__ sur la partie d'intérêt et à des variations plus rapides en dehors. Il s'agit de déterminer la frontière entre ces tendances. Il s'agit de déterminer la meilleure régression affine (calculée sur le domaine d'intérêt) et voir à quel moment, les données commencent à s'en éloigner.\n",
    "- Pour les coordonnées des centres et les angles, on s'attend à une __constante__ sur la partie d'intérêt. On va pouvoir travailler sur la _variance des données_."
   ]
  },
  {
   "cell_type": "markdown",
   "metadata": {},
   "source": [
    "# Autres éléments de preprocessing\n",
    "\n",
    "- Filtrer le bruit ?\n",
    "- Recadrage ?"
   ]
  },
  {
   "cell_type": "markdown",
   "metadata": {},
   "source": [
    "## Filtrage de l'image"
   ]
  },
  {
   "cell_type": "code",
   "execution_count": null,
   "metadata": {},
   "outputs": [],
   "source": []
  },
  {
   "cell_type": "markdown",
   "metadata": {},
   "source": [
    "# Dossier définitions"
   ]
  },
  {
   "cell_type": "markdown",
   "metadata": {},
   "source": [
    "1. Récupération de l'image\n",
    "2. Preprocessing : conversion en niveaux de gris, seuillage\n",
    "3. Détermination des contours\n",
    "4. Détection des ellipses contenues par la figure en fonction des contours\n",
    "5. Filtrage des ellipses en fonction de ses caractéristiques géométriques (taille des axes et excentricité pas trop élevée) puis tracé des différentes ellipses pertinentes\n",
    "6. Exctraction des caractéristiques géométriques des ellipses pertinentes\n",
    "\n",
    "Questions à régler :\n",
    "\n",
    "- Quel seuil ? Ou plutôt : quelle fenêtre de seuils sur laquelle moyenner les résultats ?\n",
    "- Recadrage, élimination du bruit en amont ?\n",
    "\n",
    "Détails des choix techniques :\n",
    "\n",
    "- VS utilisait Canny : semble être une mauvaise idée.\n",
    "- Détection de cercles (HoughCircles), rectangles (BoundRectangles) ou rectangles avec rotation (MinAreaRectangles) donnent des moins bons résultats, respectivement :\n",
    "    - mausvaise détection (multitudes de cercles non pertinents trouvés et difficiles à filtrer) ;\n",
    "    - ne donne pas les bonnes caractéristiques (au plus l'écart de concentricité) ;\n",
    "    - performances inférieures aux ellipses (l'ellipses permet de moyenner sur le contour).\n",
    "- Rétroéclairage fort sans éclairage supérieur :\n",
    "    - évite les ombres (cercles intérieur et extérieur et ombres des objets environnants) ;\n",
    "    - évite de voir les défauts de la pièces qui compliquent la mesure ;\n",
    "    - homogénéité du fond."
   ]
  },
  {
   "cell_type": "code",
   "execution_count": null,
   "metadata": {},
   "outputs": [],
   "source": []
  }
 ],
 "metadata": {
  "kernelspec": {
   "display_name": "Python 3",
   "language": "python",
   "name": "python3"
  },
  "language_info": {
   "codemirror_mode": {
    "name": "ipython",
    "version": 3
   },
   "file_extension": ".py",
   "mimetype": "text/x-python",
   "name": "python",
   "nbconvert_exporter": "python",
   "pygments_lexer": "ipython3",
   "version": "3.8.3"
  }
 },
 "nbformat": 4,
 "nbformat_minor": 4
}
