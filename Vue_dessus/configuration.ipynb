{
 "cells": [
  {
   "cell_type": "code",
   "execution_count": null,
   "metadata": {},
   "outputs": [],
   "source": [
    "import numpy as np\n",
    "import matplotlib.pyplot as plt\n",
    "import pandas as pd\n",
    "\n",
    "import sys\n",
    "sys.path.append('/Users/david/miniconda3/lib/python3.8/site-packages')\n",
    "\n",
    "import cv2 as cv\n",
    "\n",
    "from ipywidgets import interact\n",
    "import ipywidgets as widgets"
   ]
  },
  {
   "cell_type": "markdown",
   "metadata": {},
   "source": [
    "# Idée\n",
    "\n",
    "Trouver au début d'un ensemble d'opérations de traitement, les bonnes valeurs de seuil sur lesquelles moyenner. En effet, la luminosité et les conditions peuvent changer d'une série de photos à l'autre\n",
    "\n",
    "$\\rightarrow$ Définir un score dépendant des paramètres pertinents pour définir une plage sur laquelle moyenner (plage sur laquelle ils sont signifiants)\n",
    "\n",
    "### Données à prendre en compte\n",
    "\n",
    "- Nombre d'ellipses pertinentes détectées (doit être $2$)\n",
    "- Nombre d'ellipses totales détectées (s'il est trop élevé : bruit qui peut altérer la mesure)\n",
    "- Stabilité des angles des ellipses (variance sur la fenêtre)\n",
    "- Stabilité des mesures d'excentricité et de concentricité (variance sur la fenêtre)\n",
    "- Redondant mais éventuellement plus pertinent que le point précédent : précision de l'approximation linéaire des différents axes"
   ]
  },
  {
   "cell_type": "code",
   "execution_count": null,
   "metadata": {},
   "outputs": [],
   "source": []
  }
 ],
 "metadata": {
  "kernelspec": {
   "display_name": "Python 3",
   "language": "python",
   "name": "python3"
  },
  "language_info": {
   "codemirror_mode": {
    "name": "ipython",
    "version": 3
   },
   "file_extension": ".py",
   "mimetype": "text/x-python",
   "name": "python",
   "nbconvert_exporter": "python",
   "pygments_lexer": "ipython3",
   "version": "3.8.3"
  }
 },
 "nbformat": 4,
 "nbformat_minor": 4
}
