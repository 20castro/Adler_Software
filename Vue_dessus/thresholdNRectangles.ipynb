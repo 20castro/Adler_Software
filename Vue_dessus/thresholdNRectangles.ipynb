{
 "cells": [
  {
   "cell_type": "code",
   "execution_count": 1,
   "metadata": {},
   "outputs": [
    {
     "name": "stdout",
     "output_type": "stream",
     "text": [
      "Using matplotlib backend: MacOSX\n"
     ]
    }
   ],
   "source": [
    "import numpy as np\n",
    "import matplotlib.pyplot as plt\n",
    "import pandas as pd\n",
    "\n",
    "import sys\n",
    "sys.path.append('/Users/david/miniconda3/lib/python3.8/site-packages')\n",
    "\n",
    "import cv2 as cv\n",
    "\n",
    "from ipywidgets import interact\n",
    "import ipywidgets as widgets\n",
    "\n",
    "%matplotlib auto"
   ]
  },
  {
   "cell_type": "code",
   "execution_count": 2,
   "metadata": {},
   "outputs": [],
   "source": [
    "def filtre(w, h, dim):\n",
    "    \n",
    "    xpx, ypx = dim[0], dim[1]\n",
    "    almostSquare = w > 0 and .9 < h/w < 1.1\n",
    "    relevantDim = (.05*xpx < w < .7*xpx) and (.05*ypx < h < .7*ypx)\n",
    "    \n",
    "    return almostSquare and relevantDim"
   ]
  },
  {
   "cell_type": "code",
   "execution_count": 3,
   "metadata": {},
   "outputs": [],
   "source": [
    "def drawRectangle(image, show=True, unrot=True):\n",
    "    dim = image.shape\n",
    "    cimg = cv.cvtColor(image, cv.COLOR_GRAY2RGB)\n",
    "    contours, h = cv.findContours(image, cv.RETR_TREE, cv.CHAIN_APPROX_SIMPLE)\n",
    "    \n",
    "    rect = []\n",
    "    \n",
    "    total = 0\n",
    "    good = 0\n",
    "    \n",
    "    for cnt in contours:\n",
    "        if unrot:\n",
    "            x, y, w, h = cv.boundingRect(cnt)\n",
    "            if filtre(w, h, dim):\n",
    "                cv.rectangle(cimg, (x, y), (x + w, y + h), (0, 255 ,0), 3)\n",
    "                good += 1\n",
    "                rect.append([x, y, w, h])\n",
    "        else:\n",
    "            r = cv.minAreaRect(cnt)\n",
    "            (cx, cy), (w, h), alpha = r\n",
    "            if filtre(w, h, dim):\n",
    "                box = cv.boxPoints(r)\n",
    "                box = np.int0(box)\n",
    "                cv.drawContours(cimg, [box], 0, (255, 0, 0), 3)\n",
    "                good += 1\n",
    "                rect.append([cx, cy, w, h, alpha])        \n",
    "        \n",
    "        total += 1\n",
    "\n",
    "    if show:\n",
    "        plt.imshow(cimg, cmap='Greys', aspect='equal')\n",
    "        plt.axis('off')\n",
    "    \n",
    "    return good, total, np.array(rect)"
   ]
  },
  {
   "cell_type": "code",
   "execution_count": 4,
   "metadata": {},
   "outputs": [],
   "source": [
    "def drawEllipse(image, show=True):\n",
    "    dim = image.shape\n",
    "    cimg = cv.cvtColor(image, cv.COLOR_GRAY2RGB)\n",
    "    contours, h = cv.findContours(image, cv.RETR_TREE, cv.CHAIN_APPROX_SIMPLE)\n",
    "    \n",
    "    elli = []\n",
    "    \n",
    "    total = 0\n",
    "    good = 0\n",
    "    \n",
    "    for cnt in contours:\n",
    "        \n",
    "        if cnt.shape[0] > 4:\n",
    "            el = cv.fitEllipse(cnt)\n",
    "            (cx, cy), (a, b), alpha = el\n",
    "            if filtre(a, b, dim):\n",
    "                cv.ellipse(cimg, el, (255, 0, 0), 5)\n",
    "                good += 1\n",
    "                if b > a:\n",
    "                    a, b = b, a\n",
    "                    alpha = (alpha + 90)%180\n",
    "                elli.append([cx, cy, a, b, alpha])    \n",
    "\n",
    "            total += 1\n",
    "\n",
    "    if show:\n",
    "        plt.imshow(cimg, cmap='Greys', aspect='equal')\n",
    "        plt.axis('off')\n",
    "    \n",
    "    return good, total, np.array(elli)"
   ]
  },
  {
   "cell_type": "markdown",
   "metadata": {},
   "source": [
    "# Visualisation"
   ]
  },
  {
   "cell_type": "code",
   "execution_count": 5,
   "metadata": {},
   "outputs": [
    {
     "data": {
      "application/vnd.jupyter.widget-view+json": {
       "model_id": "bc71f028efae4c5da3c96fa9c34bd268",
       "version_major": 2,
       "version_minor": 0
      },
      "text/plain": [
       "interactive(children=(IntSlider(value=100, description='v', max=255), Checkbox(value=False, description='Bloqu…"
      ]
     },
     "metadata": {},
     "output_type": "display_data"
    },
    {
     "data": {
      "text/plain": [
       "<function __main__.Rcallback(v: int, unrot: bool)>"
      ]
     },
     "execution_count": 5,
     "metadata": {},
     "output_type": "execute_result"
    }
   ],
   "source": [
    "plt.figure()\n",
    "\n",
    "part_path = 'vert.bmp'\n",
    "path = 'img/Reelles/' + part_path\n",
    "img = cv.imread(path, 0)\n",
    "\n",
    "def Rcallback(v: int, unrot: bool):\n",
    "    ret, thresh = cv.threshold(img, v, 255, 0)\n",
    "    if thresh.mean() < 127:\n",
    "        thresh = 255 - thresh\n",
    "    drawRectangle(thresh, True, unrot)\n",
    "    \n",
    "interact(Rcallback,\n",
    "         v=widgets.IntSlider(\n",
    "             min=0,\n",
    "             max=255,\n",
    "             step=1,\n",
    "             value=100),\n",
    "         unrot=widgets.Checkbox(\n",
    "             value=False,\n",
    "             description='Bloquer la rotation',\n",
    "))"
   ]
  },
  {
   "cell_type": "code",
   "execution_count": 6,
   "metadata": {},
   "outputs": [
    {
     "data": {
      "application/vnd.jupyter.widget-view+json": {
       "model_id": "4a45b7f69abd4fb8b14fa2ec92ece0c0",
       "version_major": 2,
       "version_minor": 0
      },
      "text/plain": [
       "interactive(children=(IntSlider(value=100, description='v', max=255), Output()), _dom_classes=('widget-interac…"
      ]
     },
     "metadata": {},
     "output_type": "display_data"
    },
    {
     "data": {
      "text/plain": [
       "<function __main__.Ecallback(v: int)>"
      ]
     },
     "execution_count": 6,
     "metadata": {},
     "output_type": "execute_result"
    }
   ],
   "source": [
    "plt.figure()\n",
    "\n",
    "def Ecallback(v: int):\n",
    "    ret, thresh = cv.threshold(img, v, 255, 0)\n",
    "    if thresh.mean() < 127:\n",
    "        thresh = 255 - thresh\n",
    "    drawEllipse(thresh, True)\n",
    "    \n",
    "interact(Ecallback,\n",
    "         v=widgets.IntSlider(\n",
    "             min=0,\n",
    "             max=255,\n",
    "             step=1,\n",
    "             value=100))"
   ]
  },
  {
   "cell_type": "markdown",
   "metadata": {},
   "source": [
    "# Choix du seuil (picking the data)"
   ]
  },
  {
   "cell_type": "code",
   "execution_count": 7,
   "metadata": {},
   "outputs": [],
   "source": [
    "n = 61\n",
    "x = np.arange(80, 141)"
   ]
  },
  {
   "cell_type": "code",
   "execution_count": 8,
   "metadata": {},
   "outputs": [],
   "source": [
    "def Radd(unrot):\n",
    "    \n",
    "    goods = np.zeros(n)\n",
    "    totals = np.zeros(n)\n",
    "    ratio = np.zeros(n)\n",
    "    smallW = np.zeros(n)\n",
    "    smallH = np.zeros(n)\n",
    "    bigW = np.zeros(n)\n",
    "    bigH = np.zeros(n)\n",
    "    concentric = np.zeros(n)\n",
    "    smallAngle = np.zeros(n)\n",
    "    bigAngle = np.zeros(n)\n",
    "\n",
    "    for i, v in enumerate(x):\n",
    "        \n",
    "        ret, thresh = cv.threshold(img, v, 255, 0)\n",
    "        if thresh.mean() < 127:\n",
    "            thresh = 255 - thresh\n",
    "        a, b, rect = drawRectangle(thresh, False, unrot)\n",
    "        if b == 0:\n",
    "            ratio[i] = 0\n",
    "        else:\n",
    "            ratio[i] = a/b\n",
    "        goods[i] = a\n",
    "        totals[i] = b\n",
    "\n",
    "        if a == 2:\n",
    "            \n",
    "            w = rect[:, 2]\n",
    "            h = rect[:, 3]\n",
    "            I = np.argmax(w*h) # on regarde le rectangle d'aire maximale\n",
    "            smallW[i] = w[1 - I]\n",
    "            bigW[i] = w[I]\n",
    "            smallH[i] = h[1 - I]\n",
    "            bigH[i] = h[I]\n",
    "            \n",
    "            if unrot:\n",
    "                c = rect[:, :2] + .5*rect[:, 2:]\n",
    "            else:\n",
    "                c = rect[:, :2]\n",
    "                angle = rect[:, 4]\n",
    "                \n",
    "                smallAngle[i] = angle[1 - I]\n",
    "                bigAngle[i] = angle[I]\n",
    "            concentric[i] = np.linalg.norm(c[1, :] - c[0, :])\n",
    "            \n",
    "    return goods, totals, ratio, smallW, smallH, bigW, bigH, concentric, smallAngle, bigAngle"
   ]
  },
  {
   "cell_type": "code",
   "execution_count": 9,
   "metadata": {},
   "outputs": [],
   "source": [
    "def Eadd():\n",
    "    \n",
    "    goods = np.zeros(n)\n",
    "    totals = np.zeros(n)\n",
    "    ratio = np.zeros(n)\n",
    "    smallA = np.zeros(n)\n",
    "    smallB = np.zeros(n)\n",
    "    bigA = np.zeros(n)\n",
    "    bigB = np.zeros(n)\n",
    "    concentric = np.zeros(n)\n",
    "    smallAngle = np.zeros(n)\n",
    "    bigAngle = np.zeros(n)\n",
    "\n",
    "    for i, v in enumerate(x):\n",
    "        \n",
    "        ret, thresh = cv.threshold(img, v, 255, 0)\n",
    "        if thresh.mean() < 127:\n",
    "            thresh = 255 - thresh\n",
    "        g, t, e = drawEllipse(thresh, False)\n",
    "        if t == 0:\n",
    "            ratio[i] = 0\n",
    "        else:\n",
    "            ratio[i] = g/t\n",
    "        goods[i] = g\n",
    "        totals[i] = t\n",
    "\n",
    "        if g == 2:\n",
    "            \n",
    "            a = e[:, 2]\n",
    "            b = e[:, 3]\n",
    "            I = np.argmax(a)\n",
    "            \n",
    "            smallA[i] = a[1 - I]\n",
    "            bigA[i] = a[I]\n",
    "            smallB[i] = b[1 - I]\n",
    "            bigB[i] = b[I]\n",
    "            \n",
    "            c = e[:, :2]\n",
    "            smallAngle[i] = e[1 - I, 4]\n",
    "            bigAngle[i] = e[I, 4]\n",
    "            concentric[i] = np.linalg.norm(c[1, :] - c[0, :])\n",
    "            \n",
    "    return goods, totals, ratio, smallA, smallB, bigA, bigB, concentric, smallAngle, bigAngle"
   ]
  },
  {
   "cell_type": "markdown",
   "metadata": {},
   "source": [
    "# Comparaison des méthodes"
   ]
  },
  {
   "cell_type": "code",
   "execution_count": 10,
   "metadata": {},
   "outputs": [],
   "source": [
    "goods1, totals1, ratio1, smallW1, smallH1, bigW1, bigH1, concentric1, smallAngle1, bigAngle1 = Radd(True)\n",
    "goods2, totals2, ratio2, smallW2, smallH2, bigW2, bigH2, concentric2, smallAngle2, bigAngle2 = Radd(False)\n",
    "goods3, totals3, ratio3, smallA3, smallB3, bigA3, bigB3, concentric3, smallAngle3, bigAngle3 = Eadd()"
   ]
  },
  {
   "cell_type": "code",
   "execution_count": 11,
   "metadata": {},
   "outputs": [],
   "source": [
    "fig, ax = plt.subplots(3, 3, figsize=(14, 7))\n",
    "\n",
    "# Rectangles droits\n",
    "\n",
    "ax[0, 0].plot(x, goods1)\n",
    "ax[0, 0].set_title('Relevant rectangles (without rotation)')\n",
    "\n",
    "ax[1, 0].plot(x, totals1)\n",
    "ax[1, 0].set_title('Total number of rectangles detected (without rotation)')\n",
    "\n",
    "ax[2, 0].plot(x, ratio1)\n",
    "ax[2, 0].set_title('Ratio (without rotation)')\n",
    "\n",
    "# Rectangles avec rotation\n",
    "\n",
    "ax[0, 1].plot(x, goods2)\n",
    "ax[0, 1].set_title('Relevant rectangles (with rotation)')\n",
    "\n",
    "ax[1, 1].plot(x, totals2)\n",
    "ax[1, 1].set_title('Total number of rectangles detected (with rotation)')\n",
    "\n",
    "ax[2, 1].plot(x, ratio2)\n",
    "ax[2, 1].set_title('Ratio (with rotation)')\n",
    "\n",
    "# Ellipses\n",
    "\n",
    "ax[0, 2].plot(x, goods2)\n",
    "ax[0, 2].set_title('Relevant ellipses')\n",
    "\n",
    "ax[1, 2].plot(x, totals2)\n",
    "ax[1, 2].set_title('Total number of ellipses detected')\n",
    "\n",
    "ax[2, 2].plot(x, ratio2)\n",
    "ax[2, 2].set_title('Ratio (ellipses)')\n",
    "\n",
    "for ax in ax.flat:\n",
    "    ax.label_outer()\n",
    "    \n",
    "fig.tight_layout();"
   ]
  },
  {
   "cell_type": "code",
   "execution_count": 12,
   "metadata": {
    "scrolled": true
   },
   "outputs": [],
   "source": [
    "fig, ax = plt.subplots(3, 3, figsize=(14, 7))\n",
    "\n",
    "mask1 = goods1 == 2\n",
    "mask2 = goods2 == 2\n",
    "mask3 = goods3 == 2\n",
    "x1 = x[mask1]\n",
    "x2 = x[mask2]\n",
    "x3 = x[mask3]\n",
    "\n",
    "# Rectangles droits\n",
    "\n",
    "ax[0, 0].scatter(x1, smallW1[mask1], label='Width', s=5, marker='^')\n",
    "ax[0, 0].scatter(x1, smallH1[mask1], label='Heigth', s=5, marker='v')\n",
    "ax[0, 0].set_title('Small rectangle (without rotation)')\n",
    "ax[0, 0].legend()\n",
    "\n",
    "ax[1, 0].scatter(x1, bigW1[mask1], label='Width', s=5, marker='^')\n",
    "ax[1, 0].scatter(x1, bigH1[mask1], label='Heigth', s=5, marker='v')\n",
    "ax[1, 0].set_title('Big rectangle (without rotation)')\n",
    "ax[1, 0].legend()\n",
    "\n",
    "ax[2, 0].scatter(x1, concentric1[mask1], s=7, marker='x')\n",
    "ax[2, 0].set_title('Concentricity (without rotation)')\n",
    "\n",
    "# Rectangles avec rotation\n",
    "\n",
    "ax[0, 1].scatter(x2, smallW2[mask2], label='Width', s=5, marker='^')\n",
    "ax[0, 1].scatter(x2, smallH2[mask2], label='Heigth', s=5, marker='v')\n",
    "ax[0, 1].set_title('Small rectangle (with rotation)')\n",
    "ax[0, 1].legend()\n",
    "\n",
    "ax[1, 1].scatter(x2, bigW2[mask2], label='Width', s=5, marker='^')\n",
    "ax[1, 1].scatter(x2, bigH2[mask2], label='Heigth', s=5, marker='v')\n",
    "ax[1, 1].set_title('Big rectangle (with rotation)')\n",
    "ax[1, 1].legend()\n",
    "\n",
    "ax[2, 1].scatter(x2, concentric2[mask2], s=7, marker='x')\n",
    "ax[2, 1].set_title('Concentricity (with rotation)')\n",
    "\n",
    "# Ellipses\n",
    "\n",
    "ax[0, 2].scatter(x3, smallA3[mask3], label='Grand axe', s=5, marker='^')\n",
    "ax[0, 2].scatter(x3, smallB3[mask3], label='Petit axe', s=5, marker='v')\n",
    "ax[0, 2].set_title('Petite ellipse')\n",
    "ax[0, 2].legend()\n",
    "\n",
    "ax[1, 2].scatter(x3, bigA3[mask3], label='Grand axe', s=5, marker='^')\n",
    "ax[1, 2].scatter(x3, bigB3[mask3], label='Petit axe', s=5, marker='v')\n",
    "ax[1, 2].set_title('Grande ellipse')\n",
    "ax[1, 2].legend()\n",
    "\n",
    "ax[2, 2].scatter(x3, concentric3[mask3], s=7, marker='x')\n",
    "ax[2, 2].set_title('Concentricity (ellipse)')\n",
    "\n",
    "for ax in ax.flat:\n",
    "    ax.label_outer()\n",
    "    \n",
    "fig.tight_layout();"
   ]
  },
  {
   "cell_type": "code",
   "execution_count": 13,
   "metadata": {},
   "outputs": [],
   "source": [
    "# Angles de rotations\n",
    "\n",
    "fig, ax = plt.subplots(1, 2, figsize=(12, 3))\n",
    "\n",
    "ax[0].scatter(x2, smallAngle2[mask2], label='Petit angle', s=5, marker='^')\n",
    "ax[0].scatter(x2, bigAngle2[mask2], label='Grand angle', s=5, marker='v')\n",
    "ax[0].set_title('Angles (rectangles avec rotation)')\n",
    "ax[0].legend()\n",
    "\n",
    "ax[1].scatter(x3, smallAngle3[mask3], label='Petit angle', s=5, marker='^')\n",
    "ax[1].scatter(x3, bigAngle3[mask3], label='Grand angle', s=5, marker='v')\n",
    "ax[1].set_title('Angles (ellipse)')\n",
    "ax[1].legend()\n",
    "\n",
    "for ax in ax.flat:\n",
    "    ax.label_outer()\n",
    "    \n",
    "fig.tight_layout();"
   ]
  },
  {
   "cell_type": "markdown",
   "metadata": {},
   "source": [
    "# Reste à faire/tests unitaires\n",
    "\n",
    "- Preprocessing (Canny, recadrage) ?\n",
    "- Exploiter les mesures mises en évidence"
   ]
  },
  {
   "cell_type": "markdown",
   "metadata": {},
   "source": [
    "_____\n",
    "\n",
    "- Rectangles : centre, largeur, hauteur\n",
    "- MinAreaRect : (centre), (largeur, hauteur), angle\n",
    "- Ellipse : (centre), (grand axe, petit axe), angle"
   ]
  },
  {
   "cell_type": "code",
   "execution_count": null,
   "metadata": {},
   "outputs": [],
   "source": []
  }
 ],
 "metadata": {
  "kernelspec": {
   "display_name": "Python 3",
   "language": "python",
   "name": "python3"
  },
  "language_info": {
   "codemirror_mode": {
    "name": "ipython",
    "version": 3
   },
   "file_extension": ".py",
   "mimetype": "text/x-python",
   "name": "python",
   "nbconvert_exporter": "python",
   "pygments_lexer": "ipython3",
   "version": "3.8.3"
  }
 },
 "nbformat": 4,
 "nbformat_minor": 4
}
