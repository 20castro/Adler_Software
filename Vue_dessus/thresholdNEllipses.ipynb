{
 "cells": [
  {
   "cell_type": "code",
   "execution_count": 1,
   "metadata": {},
   "outputs": [
    {
     "name": "stdout",
     "output_type": "stream",
     "text": [
      "Using matplotlib backend: MacOSX\n"
     ]
    }
   ],
   "source": [
    "import numpy as np\n",
    "import matplotlib.pyplot as plt\n",
    "import pandas as pd\n",
    "\n",
    "import sys\n",
    "sys.path.append('/Users/david/miniconda3/lib/python3.8/site-packages')\n",
    "\n",
    "import cv2 as cv\n",
    "\n",
    "from ipywidgets import interact\n",
    "import ipywidgets as widgets\n",
    "\n",
    "%matplotlib auto"
   ]
  },
  {
   "cell_type": "code",
   "execution_count": 2,
   "metadata": {},
   "outputs": [],
   "source": [
    "def filtre(w, h, dim):\n",
    "    \n",
    "    xpx, ypx = dim[0], dim[1]\n",
    "    almostSquare = w > 0 and .9 < h/w < 1.1\n",
    "    relevantDim = (.05*xpx < w < .7*xpx) and (.05*ypx < h < .7*ypx)\n",
    "    \n",
    "    return almostSquare and relevantDim"
   ]
  },
  {
   "cell_type": "code",
   "execution_count": 3,
   "metadata": {},
   "outputs": [],
   "source": [
    "def reframe(img):\n",
    "    ret, image = cv.threshold(img, 100, 255, 0)\n",
    "    dim = image.shape\n",
    "    cimg = cv.cvtColor(image, cv.COLOR_GRAY2RGB)\n",
    "    contours, h = cv.findContours(image, cv.RETR_TREE, cv.CHAIN_APPROX_SIMPLE)\n",
    "    \n",
    "    X, Y, W, H = 0, 0, 0, 0\n",
    "    \n",
    "    for cnt in contours:\n",
    "        x, y, w, h = cv.boundingRect(cnt)       \n",
    "        if filtre(w, h, dim) and w*h > W*H:\n",
    "            X, Y, W, H = x, y, w, h\n",
    "            \n",
    "    xmin = max(0, X - 40)\n",
    "    ymin = max(0, Y - 40)\n",
    "    xmax = min(dim[1], X + W + 41)\n",
    "    ymax = min(dim[0], Y + H + 41)\n",
    "    \n",
    "    return ymin, ymax, xmin, xmax"
   ]
  },
  {
   "cell_type": "code",
   "execution_count": 4,
   "metadata": {},
   "outputs": [],
   "source": [
    "def drawEllipse(image, ymin, ymax, xmin, xmax, show=True):\n",
    "    dim = image.shape\n",
    "    cimg = cv.cvtColor(image, cv.COLOR_GRAY2RGB)\n",
    "    contours, h = cv.findContours(image, cv.RETR_TREE, cv.CHAIN_APPROX_SIMPLE)\n",
    "    \n",
    "    elli = []\n",
    "    \n",
    "    total = 0\n",
    "    good = 0\n",
    "    \n",
    "    for cnt in contours:\n",
    "        \n",
    "        if cnt.shape[0] > 4:\n",
    "            el = cv.fitEllipse(cnt)\n",
    "            (cx, cy), (a, b), alpha = el\n",
    "            if filtre(a, b, dim):\n",
    "                cv.ellipse(cimg, el, (255, 0, 0), 5)\n",
    "                good += 1\n",
    "                if b > a:\n",
    "                    a, b = b, a\n",
    "                    alpha = (alpha + 90)%180\n",
    "                elli.append([cx, cy, a, b, alpha])    \n",
    "\n",
    "            total += 1\n",
    "\n",
    "    if show:\n",
    "        plt.imshow(cimg[ymin:ymax, xmin:xmax, :], cmap='Greys', aspect='equal')\n",
    "        plt.axis('off')\n",
    "    \n",
    "    return good, total, np.array(elli)"
   ]
  },
  {
   "cell_type": "code",
   "execution_count": 5,
   "metadata": {},
   "outputs": [
    {
     "data": {
      "application/vnd.jupyter.widget-view+json": {
       "model_id": "dff2f504b9ba4bce9f9caebf4f3a83e6",
       "version_major": 2,
       "version_minor": 0
      },
      "text/plain": [
       "interactive(children=(IntSlider(value=100, description='v', max=255), Output()), _dom_classes=('widget-interac…"
      ]
     },
     "metadata": {},
     "output_type": "display_data"
    },
    {
     "data": {
      "text/plain": [
       "<function __main__.Ecallback(v: int)>"
      ]
     },
     "execution_count": 5,
     "metadata": {},
     "output_type": "execute_result"
    }
   ],
   "source": [
    "part_path = 'retro.bmp'\n",
    "path = 'img/Reelles/' + part_path\n",
    "img = cv.imread(path, 0)\n",
    "#img = cv.bilateralFilter(img, 16, 75, 75)\n",
    "ymin, ymax, xmin, xmax = reframe(img)\n",
    "\n",
    "plt.figure()\n",
    "\n",
    "def Ecallback(v: int):\n",
    "    ret, thresh = cv.threshold(img, v, 255, 0)\n",
    "    #if img[:30, :].mean() > 127: # partie du fond\n",
    "        #thresh = 255 - thresh\n",
    "    drawEllipse(thresh, ymin, ymax, xmin, xmax, True)\n",
    "    \n",
    "interact(Ecallback, v=widgets.IntSlider(min=0, max=255, step=1, value=100))"
   ]
  },
  {
   "cell_type": "markdown",
   "metadata": {},
   "source": [
    "# Variables d'intérêt"
   ]
  },
  {
   "cell_type": "code",
   "execution_count": 6,
   "metadata": {},
   "outputs": [],
   "source": [
    "n = 81\n",
    "x = np.arange(60, 141)"
   ]
  },
  {
   "cell_type": "code",
   "execution_count": 7,
   "metadata": {},
   "outputs": [],
   "source": [
    "def addPlot(axes, xv, y1, y2, label1, label2, title):\n",
    "    axes.scatter(xv, y1, label=label1, s=5, marker='^')\n",
    "    axes.scatter(xv, y2, label=label2, s=5, marker='v')\n",
    "    axes.set_title(title)\n",
    "    axes.legend()"
   ]
  },
  {
   "cell_type": "code",
   "execution_count": 8,
   "metadata": {},
   "outputs": [],
   "source": [
    "def Eadd():\n",
    "    \n",
    "    goods = np.zeros(n)\n",
    "    totals = np.zeros(n)\n",
    "    smallA = np.zeros(n)\n",
    "    smallB = np.zeros(n)\n",
    "    bigA = np.zeros(n)\n",
    "    bigB = np.zeros(n)\n",
    "    smallCX = np.zeros(n)\n",
    "    smallCY = np.zeros(n)\n",
    "    bigCX = np.zeros(n)\n",
    "    bigCY = np.zeros(n)\n",
    "    smallAngle = np.zeros(n)\n",
    "    bigAngle = np.zeros(n)\n",
    "    \n",
    "    # Calculs\n",
    "\n",
    "    for i, v in enumerate(x):\n",
    "        \n",
    "        ret, thresh = cv.threshold(img, v, 255, 0)\n",
    "        if thresh.mean() < 127:\n",
    "            thresh = 255 - thresh\n",
    "        g, t, e = drawEllipse(thresh, ymin, ymax, xmin, xmax, False)\n",
    "        goods[i] = g\n",
    "        totals[i] = t\n",
    "\n",
    "        if g == 2:\n",
    "            \n",
    "            a = e[:, 2]\n",
    "            b = e[:, 3]\n",
    "            I = np.argmax(a)\n",
    "            \n",
    "            smallA[i] = a[1 - I]\n",
    "            bigA[i] = a[I]\n",
    "            smallB[i] = b[1 - I]\n",
    "            bigB[i] = b[I]\n",
    "            \n",
    "            c = e[:, :2]\n",
    "            smallCX[i] = e[1 - I, 0]\n",
    "            smallCY[i] = e[1 - I, 1]\n",
    "            bigCX[i] = e[I, 0]\n",
    "            bigCY[i] = e[I, 1]\n",
    "            smallAngle[i] = e[1 - I, 4]\n",
    "            bigAngle[i] = e[I, 4]\n",
    "            \n",
    "    # Return\n",
    "    \n",
    "    m = goods == 2\n",
    "    T = x[m]\n",
    "    concentric = np.sqrt(np.power(bigCX - smallCX, 2) + np.power(bigCY - smallCY, 2))\n",
    "    concentric = concentric[m]\n",
    "    smallEx = np.sqrt(1. - np.power(smallB[m]/smallA[m], 2))\n",
    "    bigEx = np.sqrt(1. - np.power(bigB[m]/bigA[m], 2))         \n",
    "            \n",
    "    # Représentation\n",
    "    \n",
    "    fig_inf, ax_inf = plt.subplots(2)\n",
    "    \n",
    "    ax_inf[0].plot(x, goods)\n",
    "    ax_inf[0].set_title('Ellipses pertinentes')\n",
    "    \n",
    "    ax_inf[1].plot(x, totals)\n",
    "    ax_inf[1].set_title('Ellipses au total')\n",
    "    \n",
    "    for ax in ax_inf.flat:\n",
    "        ax.label_outer()\n",
    "    \n",
    "    fig_inf.tight_layout();\n",
    "    \n",
    "    # Répresentation des mesures\n",
    "    \n",
    "    fig, ax = plt.subplots(2, 3, figsize=(14, 7))\n",
    "    addPlot(ax[0, 0], T, smallA[m], smallB[m], 'Grand axe', 'Petit axe', 'Petite ellipse')\n",
    "    addPlot(ax[1, 0], T, bigA[m], bigB[m], 'Grand axe', 'Petit axe', 'Grande ellipse')\n",
    "    ax[0, 1].scatter(T, smallCX[m], label='$x_{\\Omega}$(petite ellipse)', s=5, marker='^')\n",
    "    ax[0, 1].scatter(T, smallCY[m], label='$y_{\\Omega}$(petite ellipse)', s=5, marker='v')\n",
    "    ax[0, 1].scatter(T, bigCX[m], label='$x_{\\Omega}$(grande ellipse)', s=5, marker='x', color='tab:gray')\n",
    "    ax[0, 1].scatter(T, bigCY[m], label='$y_{\\Omega}$(grande ellipse)', s=5, marker='+', color='tab:red')\n",
    "    ax[0, 1].set_title('Propriété des centres')\n",
    "    ax[0, 1].legend()\n",
    "    ax[1, 1].scatter(T, concentric, s=5, marker='x')\n",
    "    ax[1, 1].set_title('Écart de concentricité')\n",
    "    addPlot(ax[0, 2], T, smallAngle[m], bigAngle[m], 'Petite ellipses', 'Grande ellipse', 'Angles')\n",
    "    addPlot(ax[1, 2], T, smallEx, bigEx, 'Petite ellipse', 'Grande ellipse', 'Excentricités')\n",
    "    \n",
    "    fig.tight_layout();\n",
    "            \n",
    "    return T, concentric, smallEx, bigEx"
   ]
  },
  {
   "cell_type": "code",
   "execution_count": 9,
   "metadata": {},
   "outputs": [],
   "source": [
    "T, c, se, be = Eadd()"
   ]
  },
  {
   "cell_type": "code",
   "execution_count": null,
   "metadata": {},
   "outputs": [],
   "source": []
  }
 ],
 "metadata": {
  "kernelspec": {
   "display_name": "Python 3",
   "language": "python",
   "name": "python3"
  },
  "language_info": {
   "codemirror_mode": {
    "name": "ipython",
    "version": 3
   },
   "file_extension": ".py",
   "mimetype": "text/x-python",
   "name": "python",
   "nbconvert_exporter": "python",
   "pygments_lexer": "ipython3",
   "version": "3.8.3"
  }
 },
 "nbformat": 4,
 "nbformat_minor": 4
}
